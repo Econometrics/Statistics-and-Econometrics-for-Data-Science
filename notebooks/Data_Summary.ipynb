{
  "nbformat": 4,
  "nbformat_minor": 0,
  "metadata": {
    "colab": {
      "name": "Data Summary.ipynb",
      "provenance": []
    },
    "kernelspec": {
      "name": "python3",
      "display_name": "Python 3"
    },
    "language_info": {
      "name": "python"
    }
  },
  "cells": [
    {
      "cell_type": "markdown",
      "metadata": {
        "id": "tA8rUYfiUh9i"
      },
      "source": [
        "# **Data Summary & Statistical Analysis on Diabetes**"
      ]
    },
    {
      "cell_type": "markdown",
      "metadata": {
        "id": "PazbJppNS5Hb"
      },
      "source": [
        "### **Loading Data**"
      ]
    },
    {
      "cell_type": "code",
      "metadata": {
        "colab": {
          "base_uri": "https://localhost:8080/",
          "height": 202
        },
        "id": "vJDewPnM1OOH",
        "outputId": "d1a3a356-c547-4571-e818-fbff87d0a098"
      },
      "source": [
        "import numpy as np\n",
        "import pandas as pd\n",
        "data = pd.read_csv('diabetes.csv')\n",
        "data.head()"
      ],
      "execution_count": 297,
      "outputs": [
        {
          "output_type": "execute_result",
          "data": {
            "text/html": [
              "<div>\n",
              "<style scoped>\n",
              "    .dataframe tbody tr th:only-of-type {\n",
              "        vertical-align: middle;\n",
              "    }\n",
              "\n",
              "    .dataframe tbody tr th {\n",
              "        vertical-align: top;\n",
              "    }\n",
              "\n",
              "    .dataframe thead th {\n",
              "        text-align: right;\n",
              "    }\n",
              "</style>\n",
              "<table border=\"1\" class=\"dataframe\">\n",
              "  <thead>\n",
              "    <tr style=\"text-align: right;\">\n",
              "      <th></th>\n",
              "      <th>Pregnancies</th>\n",
              "      <th>Glucose</th>\n",
              "      <th>BloodPressure</th>\n",
              "      <th>SkinThickness</th>\n",
              "      <th>Insulin</th>\n",
              "      <th>BMI</th>\n",
              "      <th>DiabetesPedigreeFunction</th>\n",
              "      <th>Age</th>\n",
              "      <th>Outcome</th>\n",
              "    </tr>\n",
              "  </thead>\n",
              "  <tbody>\n",
              "    <tr>\n",
              "      <th>0</th>\n",
              "      <td>6</td>\n",
              "      <td>148</td>\n",
              "      <td>72</td>\n",
              "      <td>35</td>\n",
              "      <td>0</td>\n",
              "      <td>33.6</td>\n",
              "      <td>0.627</td>\n",
              "      <td>50</td>\n",
              "      <td>1</td>\n",
              "    </tr>\n",
              "    <tr>\n",
              "      <th>1</th>\n",
              "      <td>1</td>\n",
              "      <td>85</td>\n",
              "      <td>66</td>\n",
              "      <td>29</td>\n",
              "      <td>0</td>\n",
              "      <td>26.6</td>\n",
              "      <td>0.351</td>\n",
              "      <td>31</td>\n",
              "      <td>0</td>\n",
              "    </tr>\n",
              "    <tr>\n",
              "      <th>2</th>\n",
              "      <td>8</td>\n",
              "      <td>183</td>\n",
              "      <td>64</td>\n",
              "      <td>0</td>\n",
              "      <td>0</td>\n",
              "      <td>23.3</td>\n",
              "      <td>0.672</td>\n",
              "      <td>32</td>\n",
              "      <td>1</td>\n",
              "    </tr>\n",
              "    <tr>\n",
              "      <th>3</th>\n",
              "      <td>1</td>\n",
              "      <td>89</td>\n",
              "      <td>66</td>\n",
              "      <td>23</td>\n",
              "      <td>94</td>\n",
              "      <td>28.1</td>\n",
              "      <td>0.167</td>\n",
              "      <td>21</td>\n",
              "      <td>0</td>\n",
              "    </tr>\n",
              "    <tr>\n",
              "      <th>4</th>\n",
              "      <td>0</td>\n",
              "      <td>137</td>\n",
              "      <td>40</td>\n",
              "      <td>35</td>\n",
              "      <td>168</td>\n",
              "      <td>43.1</td>\n",
              "      <td>2.288</td>\n",
              "      <td>33</td>\n",
              "      <td>1</td>\n",
              "    </tr>\n",
              "  </tbody>\n",
              "</table>\n",
              "</div>"
            ],
            "text/plain": [
              "   Pregnancies  Glucose  BloodPressure  ...  DiabetesPedigreeFunction  Age  Outcome\n",
              "0            6      148             72  ...                     0.627   50        1\n",
              "1            1       85             66  ...                     0.351   31        0\n",
              "2            8      183             64  ...                     0.672   32        1\n",
              "3            1       89             66  ...                     0.167   21        0\n",
              "4            0      137             40  ...                     2.288   33        1\n",
              "\n",
              "[5 rows x 9 columns]"
            ]
          },
          "metadata": {
            "tags": []
          },
          "execution_count": 297
        }
      ]
    },
    {
      "cell_type": "markdown",
      "metadata": {
        "id": "ZnH9uo-zTIJt"
      },
      "source": [
        "### **Preview Dataset**"
      ]
    },
    {
      "cell_type": "code",
      "metadata": {
        "colab": {
          "base_uri": "https://localhost:8080/",
          "height": 294
        },
        "id": "bNuAWw2wS-yJ",
        "outputId": "4dec7054-7f9b-489b-aeac-0622e83f6f68"
      },
      "source": [
        "data.describe()"
      ],
      "execution_count": 298,
      "outputs": [
        {
          "output_type": "execute_result",
          "data": {
            "text/html": [
              "<div>\n",
              "<style scoped>\n",
              "    .dataframe tbody tr th:only-of-type {\n",
              "        vertical-align: middle;\n",
              "    }\n",
              "\n",
              "    .dataframe tbody tr th {\n",
              "        vertical-align: top;\n",
              "    }\n",
              "\n",
              "    .dataframe thead th {\n",
              "        text-align: right;\n",
              "    }\n",
              "</style>\n",
              "<table border=\"1\" class=\"dataframe\">\n",
              "  <thead>\n",
              "    <tr style=\"text-align: right;\">\n",
              "      <th></th>\n",
              "      <th>Pregnancies</th>\n",
              "      <th>Glucose</th>\n",
              "      <th>BloodPressure</th>\n",
              "      <th>SkinThickness</th>\n",
              "      <th>Insulin</th>\n",
              "      <th>BMI</th>\n",
              "      <th>DiabetesPedigreeFunction</th>\n",
              "      <th>Age</th>\n",
              "      <th>Outcome</th>\n",
              "    </tr>\n",
              "  </thead>\n",
              "  <tbody>\n",
              "    <tr>\n",
              "      <th>count</th>\n",
              "      <td>768.000000</td>\n",
              "      <td>768.000000</td>\n",
              "      <td>768.000000</td>\n",
              "      <td>768.000000</td>\n",
              "      <td>768.000000</td>\n",
              "      <td>768.000000</td>\n",
              "      <td>768.000000</td>\n",
              "      <td>768.000000</td>\n",
              "      <td>768.000000</td>\n",
              "    </tr>\n",
              "    <tr>\n",
              "      <th>mean</th>\n",
              "      <td>3.845052</td>\n",
              "      <td>120.894531</td>\n",
              "      <td>69.105469</td>\n",
              "      <td>20.536458</td>\n",
              "      <td>79.799479</td>\n",
              "      <td>31.992578</td>\n",
              "      <td>0.471876</td>\n",
              "      <td>33.240885</td>\n",
              "      <td>0.348958</td>\n",
              "    </tr>\n",
              "    <tr>\n",
              "      <th>std</th>\n",
              "      <td>3.369578</td>\n",
              "      <td>31.972618</td>\n",
              "      <td>19.355807</td>\n",
              "      <td>15.952218</td>\n",
              "      <td>115.244002</td>\n",
              "      <td>7.884160</td>\n",
              "      <td>0.331329</td>\n",
              "      <td>11.760232</td>\n",
              "      <td>0.476951</td>\n",
              "    </tr>\n",
              "    <tr>\n",
              "      <th>min</th>\n",
              "      <td>0.000000</td>\n",
              "      <td>0.000000</td>\n",
              "      <td>0.000000</td>\n",
              "      <td>0.000000</td>\n",
              "      <td>0.000000</td>\n",
              "      <td>0.000000</td>\n",
              "      <td>0.078000</td>\n",
              "      <td>21.000000</td>\n",
              "      <td>0.000000</td>\n",
              "    </tr>\n",
              "    <tr>\n",
              "      <th>25%</th>\n",
              "      <td>1.000000</td>\n",
              "      <td>99.000000</td>\n",
              "      <td>62.000000</td>\n",
              "      <td>0.000000</td>\n",
              "      <td>0.000000</td>\n",
              "      <td>27.300000</td>\n",
              "      <td>0.243750</td>\n",
              "      <td>24.000000</td>\n",
              "      <td>0.000000</td>\n",
              "    </tr>\n",
              "    <tr>\n",
              "      <th>50%</th>\n",
              "      <td>3.000000</td>\n",
              "      <td>117.000000</td>\n",
              "      <td>72.000000</td>\n",
              "      <td>23.000000</td>\n",
              "      <td>30.500000</td>\n",
              "      <td>32.000000</td>\n",
              "      <td>0.372500</td>\n",
              "      <td>29.000000</td>\n",
              "      <td>0.000000</td>\n",
              "    </tr>\n",
              "    <tr>\n",
              "      <th>75%</th>\n",
              "      <td>6.000000</td>\n",
              "      <td>140.250000</td>\n",
              "      <td>80.000000</td>\n",
              "      <td>32.000000</td>\n",
              "      <td>127.250000</td>\n",
              "      <td>36.600000</td>\n",
              "      <td>0.626250</td>\n",
              "      <td>41.000000</td>\n",
              "      <td>1.000000</td>\n",
              "    </tr>\n",
              "    <tr>\n",
              "      <th>max</th>\n",
              "      <td>17.000000</td>\n",
              "      <td>199.000000</td>\n",
              "      <td>122.000000</td>\n",
              "      <td>99.000000</td>\n",
              "      <td>846.000000</td>\n",
              "      <td>67.100000</td>\n",
              "      <td>2.420000</td>\n",
              "      <td>81.000000</td>\n",
              "      <td>1.000000</td>\n",
              "    </tr>\n",
              "  </tbody>\n",
              "</table>\n",
              "</div>"
            ],
            "text/plain": [
              "       Pregnancies     Glucose  ...         Age     Outcome\n",
              "count   768.000000  768.000000  ...  768.000000  768.000000\n",
              "mean      3.845052  120.894531  ...   33.240885    0.348958\n",
              "std       3.369578   31.972618  ...   11.760232    0.476951\n",
              "min       0.000000    0.000000  ...   21.000000    0.000000\n",
              "25%       1.000000   99.000000  ...   24.000000    0.000000\n",
              "50%       3.000000  117.000000  ...   29.000000    0.000000\n",
              "75%       6.000000  140.250000  ...   41.000000    1.000000\n",
              "max      17.000000  199.000000  ...   81.000000    1.000000\n",
              "\n",
              "[8 rows x 9 columns]"
            ]
          },
          "metadata": {
            "tags": []
          },
          "execution_count": 298
        }
      ]
    },
    {
      "cell_type": "code",
      "metadata": {
        "colab": {
          "base_uri": "https://localhost:8080/"
        },
        "id": "wYpZl5GFTC_f",
        "outputId": "9515a957-0f4f-4a6e-ce50-78c5a25dca51"
      },
      "source": [
        "data.info()"
      ],
      "execution_count": 299,
      "outputs": [
        {
          "output_type": "stream",
          "text": [
            "<class 'pandas.core.frame.DataFrame'>\n",
            "RangeIndex: 768 entries, 0 to 767\n",
            "Data columns (total 9 columns):\n",
            " #   Column                    Non-Null Count  Dtype  \n",
            "---  ------                    --------------  -----  \n",
            " 0   Pregnancies               768 non-null    int64  \n",
            " 1   Glucose                   768 non-null    int64  \n",
            " 2   BloodPressure             768 non-null    int64  \n",
            " 3   SkinThickness             768 non-null    int64  \n",
            " 4   Insulin                   768 non-null    int64  \n",
            " 5   BMI                       768 non-null    float64\n",
            " 6   DiabetesPedigreeFunction  768 non-null    float64\n",
            " 7   Age                       768 non-null    int64  \n",
            " 8   Outcome                   768 non-null    int64  \n",
            "dtypes: float64(2), int64(7)\n",
            "memory usage: 54.1 KB\n"
          ],
          "name": "stdout"
        }
      ]
    },
    {
      "cell_type": "markdown",
      "metadata": {
        "id": "4dH_s4q4CSLj"
      },
      "source": [
        "## **Statistical Inference with Confidence Intervals**\n",
        "\n",
        "The confidence interval is a range of reasonable values of Parameter of Interest. We calculate lower confidence bound and upper confidence bound; the Center of lcb, ucb is the best point estimate. 95% confidence level refers to our confidence in the statistical procedure used to make this interval.\n",
        "\n",
        "If 95% of the confidence interval is there, when we draw 100 samples from the population and make intervals on these 100 samples, then we would expect 95 intervals to contain accurate population inference.\n",
        "\n",
        "**Why Confidence Intervals?**\n",
        "\n",
        "Confidence intervals are a calculated range or boundary around a parameter, or a statistic supported mathematically with a certain level of confidence. For example, in the lecture, we estimated, with 95% confidence, that the population proportion of parents with a toddler that uses a car seat for all travel with their toddler was somewhere between 82.2% and 87.7%.\n",
        "\n",
        "This is different than having a 95% probability that the proper population proportion is within our confidence interval.\n",
        "Essentially, if we were to repeat this process, 95% of our calculated confidence intervals would contain the true proportion.\n",
        "\n",
        "**How are Confidence Intervals Calculated?**\n",
        "\n",
        "Our equation for calculating confidence intervals is as follows:\n",
        "\n",
        "\n",
        " ![image.png](data:image/png;base64,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)\n",
        " \n",
        "Where the Best Estimate is the observed population proportion or mean and the Margin of Error is the t-multiplier.\n",
        "\n",
        "The t-multiplier is calculated based on the degrees of freedom and desired confidence level. For samples with more than 30 observations and a confidence level of 95%, the t-multiplier is 1.96\n",
        "\n",
        "The equation to create a 95% confidence interval can also be shown as:\n",
        "\n",
        " ![image.png](data:image/png;base64,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)\n",
        " \n",
        "Lastly, the Standard Error is calculated differenly for population proportion and mean:\n",
        " \n",
        " ![image.png](data:image/png;base64,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)"
      ]
    },
    {
      "cell_type": "markdown",
      "metadata": {
        "id": "O5heyKCFUAo6"
      },
      "source": [
        "There are few assumption for finding confidence interval. I am assuming that dataset provided is holding true to those assumptions\n",
        "\n",
        "1) Samples are SRS(Simple Random Sampling)->(Every observation in Population have equal chance of being selected)\n",
        "\n",
        "2) Normality (Distribution of desired variable is normal)\n",
        "\n",
        "3) If in case distribution of some parameter of interest is not distributed normal, we may assume normallity using Central Limit Theorem, Larger sample size ==> Normality "
      ]
    },
    {
      "cell_type": "markdown",
      "metadata": {
        "id": "o9rUr-yQDxSF"
      },
      "source": [
        "## **The proportion of people who report they have diabetes**"
      ]
    },
    {
      "cell_type": "code",
      "metadata": {
        "colab": {
          "base_uri": "https://localhost:8080/"
        },
        "id": "7NAnx2vP1sGt",
        "outputId": "8e845475-39ee-4eec-e629-77978aadc601"
      },
      "source": [
        "data.Outcome.replace({0:'Non-Diab',1:'Diab'},inplace=True)\n",
        "print(data.Outcome.value_counts())"
      ],
      "execution_count": 300,
      "outputs": [
        {
          "output_type": "stream",
          "text": [
            "Non-Diab    500\n",
            "Diab        268\n",
            "Name: Outcome, dtype: int64\n"
          ],
          "name": "stdout"
        }
      ]
    },
    {
      "cell_type": "code",
      "metadata": {
        "id": "0Sa6vEYX4vNu"
      },
      "source": [
        "class Proportion:\n",
        "    def __init__(self,n_yes,n,x):   #X multiplier from appropriate distribution based on desired confidence level and sample design\n",
        "        self.n_yes=n_yes\n",
        "        self.n=n\n",
        "        self.x=x\n",
        "        self.best_estimate = round(n_yes/n,2)\n",
        "        \n",
        "    def estimated_standard_error(self):\n",
        "        import numpy as np\n",
        "        return np.sqrt((self.best_estimate*(1-self.best_estimate))/self.n)\n",
        "    \n",
        "    def margin_of_error(self):\n",
        "        return self.x*self.estimated_standard_error()\n",
        "\n",
        "    def proportion(self):\n",
        "        lcb=self.best_estimate-(self.x*self.estimated_standard_error())\n",
        "        ucb=self.best_estimate+(self.x*self.estimated_standard_error())\n",
        "        return (lcb,ucb)"
      ],
      "execution_count": 301,
      "outputs": []
    },
    {
      "cell_type": "code",
      "metadata": {
        "colab": {
          "base_uri": "https://localhost:8080/"
        },
        "id": "PpaJhFJ51wvx",
        "outputId": "3d2595d2-61c8-4c61-d35e-490ddbb6c184"
      },
      "source": [
        "n=data.shape[0]\n",
        "diabetic=data.Outcome.value_counts().loc['Diab']\n",
        "print(\"\\nTotal Observation->\",n,\"\\t\",\"Diabetic Patient Number->\",diabetic,\"\\n\")\n",
        "diab_pro=Proportion(diabetic, n ,1.96)  # using z=1.96 for 95% C.I here."
      ],
      "execution_count": 302,
      "outputs": [
        {
          "output_type": "stream",
          "text": [
            "\n",
            "Total Observation-> 768 \t Diabetic Patient Number-> 268 \n",
            "\n"
          ],
          "name": "stdout"
        }
      ]
    },
    {
      "cell_type": "code",
      "metadata": {
        "colab": {
          "base_uri": "https://localhost:8080/"
        },
        "id": "TXe2Ym8Y46FV",
        "outputId": "8b6ff284-360b-4251-dac7-acc6959adb53"
      },
      "source": [
        "print(\"\\nBest Point Estimate for Proportion of People with Diabetes =\",diab_pro.best_estimate*100)\n",
        "print(\"\\nEstimated Standard Error for Proportion of People with Diabetes =\", diab_pro.estimated_standard_error())\n",
        "print(\"\\nMargin of Error is for Proportion of People with Diabetes =\", diab_pro.margin_of_error())\n",
        "print(\"\\n95% Confidence Interval for Proportion of People with Diabetes =\", diab_pro.proportion(),\"\\n\")"
      ],
      "execution_count": 303,
      "outputs": [
        {
          "output_type": "stream",
          "text": [
            "\n",
            "Best Point Estimate for Proportion of People with Diabetes = 35.0\n",
            "\n",
            "Estimated Standard Error for Proportion of People with Diabetes = 0.017211157960269067\n",
            "\n",
            "Margin of Error is for Proportion of People with Diabetes = 0.03373386960212737\n",
            "\n",
            "95% Confidence Interval for Proportion of People with Diabetes = (0.3162661303978726, 0.38373386960212735) \n",
            "\n"
          ],
          "name": "stdout"
        }
      ]
    },
    {
      "cell_type": "code",
      "metadata": {
        "colab": {
          "base_uri": "https://localhost:8080/"
        },
        "id": "VHuT-DfD4-Rb",
        "outputId": "ac1871ea-39f1-4e97-a7bf-e1f4b9625d02"
      },
      "source": [
        "import statsmodels.api as sm\n",
        "print(\"\\n95% Confidence interval with the statsmodels library ->\",sm.stats.proportion_confint(diabetic, n),\"\\n\")"
      ],
      "execution_count": 304,
      "outputs": [
        {
          "output_type": "stream",
          "text": [
            "\n",
            "95% Confidence interval with the statsmodels library -> (0.3152483405027714, 0.38266832616389523) \n",
            "\n"
          ],
          "name": "stdout"
        }
      ]
    },
    {
      "cell_type": "markdown",
      "metadata": {
        "id": "m1IIH571GgBM"
      },
      "source": [
        "**Interpreting Confidence Interval about Proportion of People with Diabetes**\n",
        "\n",
        "With 95% confidence, the population proportion of people having diabetes is estimated to be between 31.52% - 38.26%."
      ]
    },
    {
      "cell_type": "markdown",
      "metadata": {
        "id": "pTIn_Y-EGoxq"
      },
      "source": [
        "## **Average month of Pregnancy for Patients with diabetes**\n",
        "\n",
        "Population is all Patients with Diabetes\n",
        "\n",
        "Parameter of Interest is the Population Mean Pregnancy Month of Patients with diabetes."
      ]
    },
    {
      "cell_type": "code",
      "metadata": {
        "colab": {
          "base_uri": "https://localhost:8080/",
          "height": 202
        },
        "id": "T4LQY-D65DKl",
        "outputId": "1d255667-58d7-459f-d1bb-d6bb96821ff2"
      },
      "source": [
        "data_diabetic = data[data.Outcome=='Diab']\n",
        "data_diabetic.head()"
      ],
      "execution_count": 305,
      "outputs": [
        {
          "output_type": "execute_result",
          "data": {
            "text/html": [
              "<div>\n",
              "<style scoped>\n",
              "    .dataframe tbody tr th:only-of-type {\n",
              "        vertical-align: middle;\n",
              "    }\n",
              "\n",
              "    .dataframe tbody tr th {\n",
              "        vertical-align: top;\n",
              "    }\n",
              "\n",
              "    .dataframe thead th {\n",
              "        text-align: right;\n",
              "    }\n",
              "</style>\n",
              "<table border=\"1\" class=\"dataframe\">\n",
              "  <thead>\n",
              "    <tr style=\"text-align: right;\">\n",
              "      <th></th>\n",
              "      <th>Pregnancies</th>\n",
              "      <th>Glucose</th>\n",
              "      <th>BloodPressure</th>\n",
              "      <th>SkinThickness</th>\n",
              "      <th>Insulin</th>\n",
              "      <th>BMI</th>\n",
              "      <th>DiabetesPedigreeFunction</th>\n",
              "      <th>Age</th>\n",
              "      <th>Outcome</th>\n",
              "    </tr>\n",
              "  </thead>\n",
              "  <tbody>\n",
              "    <tr>\n",
              "      <th>0</th>\n",
              "      <td>6</td>\n",
              "      <td>148</td>\n",
              "      <td>72</td>\n",
              "      <td>35</td>\n",
              "      <td>0</td>\n",
              "      <td>33.6</td>\n",
              "      <td>0.627</td>\n",
              "      <td>50</td>\n",
              "      <td>Diab</td>\n",
              "    </tr>\n",
              "    <tr>\n",
              "      <th>2</th>\n",
              "      <td>8</td>\n",
              "      <td>183</td>\n",
              "      <td>64</td>\n",
              "      <td>0</td>\n",
              "      <td>0</td>\n",
              "      <td>23.3</td>\n",
              "      <td>0.672</td>\n",
              "      <td>32</td>\n",
              "      <td>Diab</td>\n",
              "    </tr>\n",
              "    <tr>\n",
              "      <th>4</th>\n",
              "      <td>0</td>\n",
              "      <td>137</td>\n",
              "      <td>40</td>\n",
              "      <td>35</td>\n",
              "      <td>168</td>\n",
              "      <td>43.1</td>\n",
              "      <td>2.288</td>\n",
              "      <td>33</td>\n",
              "      <td>Diab</td>\n",
              "    </tr>\n",
              "    <tr>\n",
              "      <th>6</th>\n",
              "      <td>3</td>\n",
              "      <td>78</td>\n",
              "      <td>50</td>\n",
              "      <td>32</td>\n",
              "      <td>88</td>\n",
              "      <td>31.0</td>\n",
              "      <td>0.248</td>\n",
              "      <td>26</td>\n",
              "      <td>Diab</td>\n",
              "    </tr>\n",
              "    <tr>\n",
              "      <th>8</th>\n",
              "      <td>2</td>\n",
              "      <td>197</td>\n",
              "      <td>70</td>\n",
              "      <td>45</td>\n",
              "      <td>543</td>\n",
              "      <td>30.5</td>\n",
              "      <td>0.158</td>\n",
              "      <td>53</td>\n",
              "      <td>Diab</td>\n",
              "    </tr>\n",
              "  </tbody>\n",
              "</table>\n",
              "</div>"
            ],
            "text/plain": [
              "   Pregnancies  Glucose  BloodPressure  ...  DiabetesPedigreeFunction  Age  Outcome\n",
              "0            6      148             72  ...                     0.627   50     Diab\n",
              "2            8      183             64  ...                     0.672   32     Diab\n",
              "4            0      137             40  ...                     2.288   33     Diab\n",
              "6            3       78             50  ...                     0.248   26     Diab\n",
              "8            2      197             70  ...                     0.158   53     Diab\n",
              "\n",
              "[5 rows x 9 columns]"
            ]
          },
          "metadata": {
            "tags": []
          },
          "execution_count": 305
        }
      ]
    },
    {
      "cell_type": "code",
      "metadata": {
        "id": "_hgyMKtY5Hqq"
      },
      "source": [
        "mean_preg_diab=Mean(data_diabetic['Pregnancies'].mean(),data_diabetic['Pregnancies'].std(),data_diabetic.shape[0],1.962)"
      ],
      "execution_count": 306,
      "outputs": []
    },
    {
      "cell_type": "code",
      "metadata": {
        "colab": {
          "base_uri": "https://localhost:8080/"
        },
        "id": "6fcN8l3Q5KgR",
        "outputId": "7b25cc88-6e62-4713-bda3-36fcece3e766"
      },
      "source": [
        "print(\"Best point estimate for Mean Pregnancy Month of Patients with Diabetes ->\", mean_preg_diab.best_estimate)\n",
        "print(\"\\nEstimated Standard Error for Mean Pregnancy Month of Patients with Diabetes ->\",mean_preg_diab.estimated_se)\n",
        "print(\"\\nMargin of Error for Mean Pregnancy Month of Patients with Diabetes ->\",mean_preg_diab.moe())\n",
        "print(\"\\n95% Confidence Interval for Mean Pregnancy Month of Patients with Diabetes ->\",mean_preg_diab.mean(),\"\\n\")"
      ],
      "execution_count": 307,
      "outputs": [
        {
          "output_type": "stream",
          "text": [
            "Best point estimate for Mean Pregnancy Month of Patients with diabetes -> 4.865671641791045\n",
            "\n",
            "Estimated Standard Error for Mean Pregnancy Month of Patients with diabetes -> 0.2285325476073356\n",
            "\n",
            "Margin of Error for Mean Pregnancy Month of Patients with diabetes -> 0.44838085840559244\n",
            "\n",
            "95% Confidence Interval for Mean Pregnancy Month of Patients with diabetes -> (4.417290783385453, 5.314052500196637) \n",
            "\n"
          ],
          "name": "stdout"
        }
      ]
    },
    {
      "cell_type": "code",
      "metadata": {
        "colab": {
          "base_uri": "https://localhost:8080/"
        },
        "id": "Nvo86gGo5aX-",
        "outputId": "5ce51963-9777-417c-8963-d75abe7c6fee"
      },
      "source": [
        "print(\"\\n95% C.I. with the statsmodels library ->\",sm.stats.DescrStatsW(data_diabetic['Pregnancies']).zconfint_mean())"
      ],
      "execution_count": 308,
      "outputs": [
        {
          "output_type": "stream",
          "text": [
            "\n",
            "95% C.I. with the statsmodels library -> (4.417756079185482, 5.313587204396608)\n"
          ],
          "name": "stdout"
        }
      ]
    },
    {
      "cell_type": "code",
      "metadata": {
        "id": "OLTFkWB75pIT"
      },
      "source": [
        "import matplotlib.pyplot as plt\n",
        "import seaborn as sns\n",
        "# sns.set_style('darkgrid')\n",
        "%matplotlib inline"
      ],
      "execution_count": 309,
      "outputs": []
    },
    {
      "cell_type": "markdown",
      "metadata": {
        "id": "2N-273rkgrS7"
      },
      "source": [
        "**Pregnancies Distribution for Diabetic Patients**"
      ]
    },
    {
      "cell_type": "code",
      "metadata": {
        "colab": {
          "base_uri": "https://localhost:8080/",
          "height": 455
        },
        "id": "wjB3vSZ_5e8B",
        "outputId": "21a18b3d-85a1-4d95-8e22-86bd161f990c"
      },
      "source": [
        "plt.figure(dpi=120,figsize=(5,3))\n",
        "sns.distplot(data_diabetic['Pregnancies'],color='red')\n",
        "plt.axvline(x=4.417756079185482,color='blue',ls=':')\n",
        "plt.axvline(x=5.313587204396608,color='blue',ls=':')\n",
        "plt.axvline(x=mean_preg_diab.best_estimate,color='black',ls='--')\n",
        "plt.xticks([4.417756079185482,5.313587204396608],['lcb','ucb'],rotation=90)\n",
        "plt.xlabel('Pregnancy Class for Diabetic Patients',fontdict={'fontsize':9})\n",
        "plt.ylabel('Count/Distribution',fontdict={'fontsize':9})\n",
        "plt.title('Pregnancies Distribution for Diabetic Patients',fontdict={'fontsize':10}) \n",
        "plt.show()"
      ],
      "execution_count": 310,
      "outputs": [
        {
          "output_type": "stream",
          "text": [
            "/usr/local/lib/python3.7/dist-packages/seaborn/distributions.py:2557: FutureWarning: `distplot` is a deprecated function and will be removed in a future version. Please adapt your code to use either `displot` (a figure-level function with similar flexibility) or `histplot` (an axes-level function for histograms).\n",
            "  warnings.warn(msg, FutureWarning)\n"
          ],
          "name": "stderr"
        },
        {
          "output_type": "display_data",
          "data": {
            "image/png": "[encoded data removed]",
            "text/plain": [
              "<Figure size 600x360 with 1 Axes>"
            ]
          },
          "metadata": {
            "tags": [],
            "needs_background": "light"
          }
        }
      ]
    },
    {
      "cell_type": "markdown",
      "metadata": {
        "id": "FMuO_cpiG_0y"
      },
      "source": [
        "**Interpretation**\n",
        "\n",
        "With 95% confidence, the population mean Pregnancies for all Patients with Diabetes is estimated to be between 4.417 months and 5.314 months.\n",
        "Note that our Best Point Estimate is center of our confidence intervale."
      ]
    },
    {
      "cell_type": "markdown",
      "metadata": {
        "id": "IDRYkoVAHL8K"
      },
      "source": [
        "## **Average month of Pregnancy for non diabetic patients**\n",
        "\n",
        "Population is all Non diabetic patients\n",
        "\n",
        "Parameter of Interest is the Population Mean Pregnancy Month for non diabetic patients."
      ]
    },
    {
      "cell_type": "code",
      "metadata": {
        "colab": {
          "base_uri": "https://localhost:8080/",
          "height": 202
        },
        "id": "JMJY5UU-57hz",
        "outputId": "05754335-ee25-4b49-ac31-3ecd9293f232"
      },
      "source": [
        "data_non_diabetic=data[data.Outcome=='Non-Diab']\n",
        "data_non_diabetic.head()"
      ],
      "execution_count": 311,
      "outputs": [
        {
          "output_type": "execute_result",
          "data": {
            "text/html": [
              "<div>\n",
              "<style scoped>\n",
              "    .dataframe tbody tr th:only-of-type {\n",
              "        vertical-align: middle;\n",
              "    }\n",
              "\n",
              "    .dataframe tbody tr th {\n",
              "        vertical-align: top;\n",
              "    }\n",
              "\n",
              "    .dataframe thead th {\n",
              "        text-align: right;\n",
              "    }\n",
              "</style>\n",
              "<table border=\"1\" class=\"dataframe\">\n",
              "  <thead>\n",
              "    <tr style=\"text-align: right;\">\n",
              "      <th></th>\n",
              "      <th>Pregnancies</th>\n",
              "      <th>Glucose</th>\n",
              "      <th>BloodPressure</th>\n",
              "      <th>SkinThickness</th>\n",
              "      <th>Insulin</th>\n",
              "      <th>BMI</th>\n",
              "      <th>DiabetesPedigreeFunction</th>\n",
              "      <th>Age</th>\n",
              "      <th>Outcome</th>\n",
              "    </tr>\n",
              "  </thead>\n",
              "  <tbody>\n",
              "    <tr>\n",
              "      <th>1</th>\n",
              "      <td>1</td>\n",
              "      <td>85</td>\n",
              "      <td>66</td>\n",
              "      <td>29</td>\n",
              "      <td>0</td>\n",
              "      <td>26.6</td>\n",
              "      <td>0.351</td>\n",
              "      <td>31</td>\n",
              "      <td>Non-Diab</td>\n",
              "    </tr>\n",
              "    <tr>\n",
              "      <th>3</th>\n",
              "      <td>1</td>\n",
              "      <td>89</td>\n",
              "      <td>66</td>\n",
              "      <td>23</td>\n",
              "      <td>94</td>\n",
              "      <td>28.1</td>\n",
              "      <td>0.167</td>\n",
              "      <td>21</td>\n",
              "      <td>Non-Diab</td>\n",
              "    </tr>\n",
              "    <tr>\n",
              "      <th>5</th>\n",
              "      <td>5</td>\n",
              "      <td>116</td>\n",
              "      <td>74</td>\n",
              "      <td>0</td>\n",
              "      <td>0</td>\n",
              "      <td>25.6</td>\n",
              "      <td>0.201</td>\n",
              "      <td>30</td>\n",
              "      <td>Non-Diab</td>\n",
              "    </tr>\n",
              "    <tr>\n",
              "      <th>7</th>\n",
              "      <td>10</td>\n",
              "      <td>115</td>\n",
              "      <td>0</td>\n",
              "      <td>0</td>\n",
              "      <td>0</td>\n",
              "      <td>35.3</td>\n",
              "      <td>0.134</td>\n",
              "      <td>29</td>\n",
              "      <td>Non-Diab</td>\n",
              "    </tr>\n",
              "    <tr>\n",
              "      <th>10</th>\n",
              "      <td>4</td>\n",
              "      <td>110</td>\n",
              "      <td>92</td>\n",
              "      <td>0</td>\n",
              "      <td>0</td>\n",
              "      <td>37.6</td>\n",
              "      <td>0.191</td>\n",
              "      <td>30</td>\n",
              "      <td>Non-Diab</td>\n",
              "    </tr>\n",
              "  </tbody>\n",
              "</table>\n",
              "</div>"
            ],
            "text/plain": [
              "    Pregnancies  Glucose  ...  Age   Outcome\n",
              "1             1       85  ...   31  Non-Diab\n",
              "3             1       89  ...   21  Non-Diab\n",
              "5             5      116  ...   30  Non-Diab\n",
              "7            10      115  ...   29  Non-Diab\n",
              "10            4      110  ...   30  Non-Diab\n",
              "\n",
              "[5 rows x 9 columns]"
            ]
          },
          "metadata": {
            "tags": []
          },
          "execution_count": 311
        }
      ]
    },
    {
      "cell_type": "code",
      "metadata": {
        "id": "PKPzvKVI6Ag2"
      },
      "source": [
        "mean_preg_non_diab = Mean(data_non_diabetic['Pregnancies'].mean(),data_non_diabetic['Pregnancies'].std(),data_non_diabetic.shape[0],1.962)"
      ],
      "execution_count": 312,
      "outputs": []
    },
    {
      "cell_type": "code",
      "metadata": {
        "colab": {
          "base_uri": "https://localhost:8080/"
        },
        "id": "PVvgykEM6EsG",
        "outputId": "7abcfe89-f86a-4702-d786-70f54bddf721"
      },
      "source": [
        "print(\"\\nBest point estimate for Mean Pregnancy Month of non diabetic patients ->\", mean_preg_non_diab.best_estimate)\n",
        "print(\"\\nEstimated Standard Error for Mean Pregnancy Month of non diabetic patients ->\",mean_preg_non_diab.estimated_se)\n",
        "print(\"\\nMargin of Error for Mean Pregnancy Month of non diabetic patients ->\",mean_preg_non_diab.moe())\n",
        "print(\"\\n95% Confidence Interval for Mean Pregnancy Month of non diabetic patients -> \",mean_preg_non_diab.mean(),\"\\n\")"
      ],
      "execution_count": 313,
      "outputs": [
        {
          "output_type": "stream",
          "text": [
            "\n",
            "Best point estimate for Mean Pregnancy Month of non diabetic patients -> 3.298\n",
            "\n",
            "Estimated Standard Error for Mean Pregnancy Month of non diabetic patients -> 0.13493259654813752\n",
            "\n",
            "Margin of Error for Mean Pregnancy Month of non diabetic patients -> 0.2647377544274458\n",
            "\n",
            "95% Confidence Interval for Mean Pregnancy Month of non diabetic patients ->  (3.0332622455725544, 3.5627377544274457) \n",
            "\n"
          ],
          "name": "stdout"
        }
      ]
    },
    {
      "cell_type": "code",
      "metadata": {
        "colab": {
          "base_uri": "https://localhost:8080/"
        },
        "id": "iK-2Oj0a6JJe",
        "outputId": "38c493b4-4be3-4f05-bde1-04a35044922f"
      },
      "source": [
        "print(\"\\n95% C.I. with statsmodels library ->\",sm.stats.DescrStatsW(data_non_diabetic['Pregnancies']).zconfint_mean())"
      ],
      "execution_count": 314,
      "outputs": [
        {
          "output_type": "stream",
          "text": [
            "\n",
            "95% C.I. with statsmodels library -> (3.033536970425177, 3.562463029574823)\n"
          ],
          "name": "stdout"
        }
      ]
    },
    {
      "cell_type": "markdown",
      "metadata": {
        "id": "0O6UpyJxgfWy"
      },
      "source": [
        "**Pregnancies Distribution for Non Diabetic Patients** "
      ]
    },
    {
      "cell_type": "code",
      "metadata": {
        "colab": {
          "base_uri": "https://localhost:8080/",
          "height": 455
        },
        "id": "kBTwKtqp6M2X",
        "outputId": "da8b6dc3-c8bc-499f-a036-3261712a9474"
      },
      "source": [
        "plt.figure(dpi=120,figsize=(5,3))\n",
        "sns.distplot(data_non_diabetic['Pregnancies'],color='red')\n",
        "plt.axvline(x=3.033536970425177,color='blue',ls=':')\n",
        "plt.axvline(x=3.562463029574823,color='blue',ls=':')\n",
        "plt.axvline(x=mean_preg_non_diab.best_estimate,color='black',ls='--')\n",
        "plt.xticks([3.033536970425177, 3.562463029574823],['lcb','ucb'],rotation=90)\n",
        "plt.xlabel('Pregnancy Class for Non Diabetic Patients',fontdict={'fontsize':9})\n",
        "plt.ylabel('Count/Distribution',fontdict={'fontsize':9})\n",
        "plt.title('Pregnancies Distribution for Non Diabetic Patients',fontdict={'fontsize':10}) \n",
        "plt.show()"
      ],
      "execution_count": 315,
      "outputs": [
        {
          "output_type": "stream",
          "text": [
            "/usr/local/lib/python3.7/dist-packages/seaborn/distributions.py:2557: FutureWarning: `distplot` is a deprecated function and will be removed in a future version. Please adapt your code to use either `displot` (a figure-level function with similar flexibility) or `histplot` (an axes-level function for histograms).\n",
            "  warnings.warn(msg, FutureWarning)\n"
          ],
          "name": "stderr"
        },
        {
          "output_type": "display_data",
          "data": {
            "image/png": "[encoded data removed]",
            "text/plain": [
              "<Figure size 600x360 with 1 Axes>"
            ]
          },
          "metadata": {
            "tags": [],
            "needs_background": "light"
          }
        }
      ]
    },
    {
      "cell_type": "markdown",
      "metadata": {
        "id": "pSPDhy3NI3gp"
      },
      "source": [
        "**Interpretation**\n",
        "\n",
        "With 95% confidence, the population mean Pregnancies for all non diabetic Patients is estimated to be between 3.033 months and 3.562 months.\n",
        "It can be observed that our Best Point Estimate is center of our confidence intervale."
      ]
    },
    {
      "cell_type": "markdown",
      "metadata": {
        "id": "EEED4UZFJTT7"
      },
      "source": [
        "## **Difference in mean pregnancies month of diabetic and non-diabetic patients**\n",
        "\n",
        "Parameter of Interest -> (μ1 − μ2 ): Pregnancies Month\n",
        "\n",
        "where:\n",
        "\n",
        "μ1-> Mean pregnancies month of Diabetic Patients.\n",
        "\n",
        "μ1-> Mean pregnancies month of Non-Diabetic Patients.\n",
        "\n",
        "There is two approach to calculate mean difference confidence interval :-\n",
        "\n",
        "1) Pooled Approach\n",
        "\n",
        "2) Un-pooled approach\n",
        "\n",
        "**Pooled Approach** The variance of the two populations are assumed to be equal for both groups\n",
        "\n",
        "**Unpooled Approach** The assumption of equal variances is dropped\n",
        "\n",
        "Let us find out which approach we can use."
      ]
    },
    {
      "cell_type": "code",
      "metadata": {
        "colab": {
          "base_uri": "https://localhost:8080/",
          "height": 145
        },
        "id": "NwmpYj_C6R3d",
        "outputId": "cdeb4ee9-6314-4571-b84f-c8902e2f8640"
      },
      "source": [
        "print(\"\\nSample Information-\")\n",
        "df.groupby('Outcome').describe()['Pregnancies'].transpose().loc[['mean','std'],:]"
      ],
      "execution_count": 316,
      "outputs": [
        {
          "output_type": "stream",
          "text": [
            "\n",
            "Sample Information-\n"
          ],
          "name": "stdout"
        },
        {
          "output_type": "execute_result",
          "data": {
            "text/html": [
              "<div>\n",
              "<style scoped>\n",
              "    .dataframe tbody tr th:only-of-type {\n",
              "        vertical-align: middle;\n",
              "    }\n",
              "\n",
              "    .dataframe tbody tr th {\n",
              "        vertical-align: top;\n",
              "    }\n",
              "\n",
              "    .dataframe thead th {\n",
              "        text-align: right;\n",
              "    }\n",
              "</style>\n",
              "<table border=\"1\" class=\"dataframe\">\n",
              "  <thead>\n",
              "    <tr style=\"text-align: right;\">\n",
              "      <th>Outcome</th>\n",
              "      <th>Diab</th>\n",
              "      <th>Non-Diab</th>\n",
              "    </tr>\n",
              "  </thead>\n",
              "  <tbody>\n",
              "    <tr>\n",
              "      <th>mean</th>\n",
              "      <td>4.865672</td>\n",
              "      <td>3.298000</td>\n",
              "    </tr>\n",
              "    <tr>\n",
              "      <th>std</th>\n",
              "      <td>3.741239</td>\n",
              "      <td>3.017185</td>\n",
              "    </tr>\n",
              "  </tbody>\n",
              "</table>\n",
              "</div>"
            ],
            "text/plain": [
              "Outcome      Diab  Non-Diab\n",
              "mean     4.865672  3.298000\n",
              "std      3.741239  3.017185"
            ]
          },
          "metadata": {
            "tags": []
          },
          "execution_count": 316
        }
      ]
    },
    {
      "cell_type": "code",
      "metadata": {
        "colab": {
          "base_uri": "https://localhost:8080/",
          "height": 666
        },
        "id": "vK5bYKGK6Vd8",
        "outputId": "38badb14-9ea4-402c-9f7c-baf8fbde2f05"
      },
      "source": [
        "fig,axes = plt.subplots(nrows=1,ncols=2,dpi=100,figsize = (7,5))\n",
        "\n",
        "plot0 = sns.boxplot(data_diabetic['Pregnancies'],ax=axes[0],orient='v',color= 'blue')\n",
        "axes[0].set_title('Diabetic',fontdict={'fontsize':10})\n",
        "axes[0].set_xlabel('Five Point Summary',fontdict={'fontsize':8})\n",
        "axes[0].set_ylabel('Pregnancies',fontdict={'fontsize':8})\n",
        "plt.tight_layout()\n",
        "\n",
        "plot1 = sns.boxplot(data_non_diabetic['Pregnancies'],ax=axes[1],orient='v',color='red')\n",
        "axes[1].set_title('Non Diabetic',fontdict={'fontsize':10})\n",
        "axes[1].set_xlabel('Five Point Summary',fontdict={'fontsize':8})\n",
        "axes[1].set_ylabel('Pregnancies',fontdict={'fontsize':8})\n",
        "plt.tight_layout()"
      ],
      "execution_count": 317,
      "outputs": [
        {
          "output_type": "stream",
          "text": [
            "/usr/local/lib/python3.7/dist-packages/seaborn/_decorators.py:43: FutureWarning: Pass the following variable as a keyword arg: x. From version 0.12, the only valid positional argument will be `data`, and passing other arguments without an explicit keyword will result in an error or misinterpretation.\n",
            "  FutureWarning\n",
            "/usr/local/lib/python3.7/dist-packages/seaborn/_core.py:1319: UserWarning: Vertical orientation ignored with only `x` specified.\n",
            "  warnings.warn(single_var_warning.format(\"Vertical\", \"x\"))\n",
            "/usr/local/lib/python3.7/dist-packages/seaborn/_decorators.py:43: FutureWarning: Pass the following variable as a keyword arg: x. From version 0.12, the only valid positional argument will be `data`, and passing other arguments without an explicit keyword will result in an error or misinterpretation.\n",
            "  FutureWarning\n",
            "/usr/local/lib/python3.7/dist-packages/seaborn/_core.py:1319: UserWarning: Vertical orientation ignored with only `x` specified.\n",
            "  warnings.warn(single_var_warning.format(\"Vertical\", \"x\"))\n"
          ],
          "name": "stderr"
        },
        {
          "output_type": "display_data",
          "data": {
            "image/png": "[encoded data removed]",
            "text/plain": [
              "<Figure size 700x500 with 2 Axes>"
            ]
          },
          "metadata": {
            "tags": [],
            "needs_background": "light"
          }
        }
      ]
    },
    {
      "cell_type": "markdown",
      "metadata": {
        "id": "4TVz7o4GOhBy"
      },
      "source": [
        "Variance of both diabetic and non diabetic patients are nearly similar or IQR is also almost same. Thus we can proceed with Pooled approach."
      ]
    },
    {
      "cell_type": "code",
      "metadata": {
        "id": "XHafUf9R6aKc"
      },
      "source": [
        "x1 = data_diabetic.Pregnancies.mean()\n",
        "x2 = data_non_diabetic.Pregnancies.mean()\n",
        "std1 = data_diabetic.Pregnancies.std()\n",
        "std2 = data_non_diabetic.Pregnancies.std()\n",
        "n1 = data_diabetic.shape[0]\n",
        "n2 = data_non_diabetic.shape[0]"
      ],
      "execution_count": 318,
      "outputs": []
    },
    {
      "cell_type": "code",
      "metadata": {
        "id": "A__NCPXT6sT1"
      },
      "source": [
        "class diffMean:\n",
        "    import numpy as np\n",
        "    def __init__(self,x1,x2,std1,std2,n1,n2,t):    #t multiplier comes from t distribution with appropriate degree of freedom'''        \n",
        "        self.best_estimate1=x1\n",
        "        self.best_estimate2=x2\n",
        "        self.std1=std1\n",
        "        self.std2=std2\n",
        "        self.n1=n1\n",
        "        self.n2=n2\n",
        "        self.t=t\n",
        "        self.pooled_estimated_se = np.sqrt((np.sqrt(((self.n1-1)*(self.std1**2) + (self.n2-1)*(self.std2**2)) / ((self.n1+self.n2)-2))) * (np.sqrt((1/self.n1)+(1/self.n2))))\n",
        "        self.unpooled_estimated_se = np.sqrt(((self.std1**2)/self.n1) + ((self.std2**2)/self.n2))\n",
        "        \n",
        "    def pooledMoe(self):\n",
        "        return (self.t)*(self.pooled_estimated_se)\n",
        "    \n",
        "    def pooledMean(self):\n",
        "        lcb=(self.best_estimate1-self.best_estimate2)-self.pooledMoe()\n",
        "        ucb=(self.best_estimate1-self.best_estimate2)+self.pooledMoe()\n",
        "        return (lcb,ucb)\n",
        "    \n",
        "    def unpooledMoe(self):\n",
        "        return self.t*self.unpooled_estimated_se\n",
        "    \n",
        "    def unpooledMean(self):\n",
        "        lcb=(self.best_estimate1-self.best_estimate2)-self.unpooledMoe()\n",
        "        ucb=(self.best_estimate1-self.best_estimate2)+self.unpooledMoe()\n",
        "        return (lcb,ucb)"
      ],
      "execution_count": 319,
      "outputs": []
    },
    {
      "cell_type": "code",
      "metadata": {
        "id": "GNB14_tE6fsi"
      },
      "source": [
        "mean_diff_preg = diffMean(x1,x2,std1,std2,n1,n2,1.98)"
      ],
      "execution_count": 320,
      "outputs": []
    },
    {
      "cell_type": "code",
      "metadata": {
        "colab": {
          "base_uri": "https://localhost:8080/"
        },
        "id": "DjVHuB4z6gry",
        "outputId": "f7451b78-53b6-42ed-a435-a360235eaa75"
      },
      "source": [
        "mean_diff_preg.pooledMean()"
      ],
      "execution_count": 321,
      "outputs": [
        {
          "output_type": "execute_result",
          "data": {
            "text/plain": [
              "(0.579854475792106, 2.5554888077899838)"
            ]
          },
          "metadata": {
            "tags": []
          },
          "execution_count": 321
        }
      ]
    },
    {
      "cell_type": "code",
      "metadata": {
        "colab": {
          "base_uri": "https://localhost:8080/"
        },
        "id": "OhsG9nAy6hEc",
        "outputId": "f2252f96-5eeb-4a8a-9657-3f7f62629989"
      },
      "source": [
        "print(\"Best point estimate for (μ1-μ2): Pregnancies Month =\",(mean_diff_preg.best_estimate1-mean_diff_preg.best_estimate2))\n",
        "print(\"\\nEstimated Standard Error for (μ1-μ2): Pregnancies Month =\",mean_diff_preg.pooled_estimated_se)\n",
        "print(\"\\nMargin of Error for (μ1-μ2): Pregnancies Month =\",mean_diff_preg.pooledMoe())\n",
        "print(\"\\n95% Confidence Interval for (μ1-μ2): Pregnancies Month =\",mean_diff_preg.pooledMean(),\"\\n\")"
      ],
      "execution_count": 322,
      "outputs": [
        {
          "output_type": "stream",
          "text": [
            "Best point estimate for (μ1-μ2): Pregnancies Month = 1.567671641791045\n",
            "\n",
            "Estimated Standard Error for (μ1-μ2): Pregnancies Month = 0.4988975585853227\n",
            "\n",
            "Margin of Error for (μ1-μ2): Pregnancies Month = 0.987817165998939\n",
            "\n",
            "95% Confidence Interval for (μ1-μ2): Pregnancies Month = (0.579854475792106, 2.5554888077899838) \n",
            "\n"
          ],
          "name": "stdout"
        }
      ]
    },
    {
      "cell_type": "markdown",
      "metadata": {
        "id": "zdUS6rQHOngM"
      },
      "source": [
        "**Interpretation**\n",
        "\n",
        "With 95% confidence, the difference in mean Pregnancies Month between diabetic and non-diabetic patients is estimated to be between 0.5798 month and 2.5554 month."
      ]
    },
    {
      "cell_type": "markdown",
      "metadata": {
        "id": "ySldfVAkOzEx"
      },
      "source": [
        "## **Comparision between mean pregnancies month of Diabetic and Non Diabetic Patients**\n",
        "\n",
        "Population-> Diabetic and Non-Diabetic Patients\n",
        "\n",
        "Parameter of Interest-> (μ1 − μ2 ): Pregnancies Month\n",
        "\n",
        "μ1-> Mean pregnancies month of Diabetic Patients.\n",
        "\n",
        "μ1-> Mean pregnancies month of Non-Diabetic Patients.\n",
        "\n",
        "Null: There is no difference in mean Pregnancy Month\n",
        "\n",
        "Alternative: There is a significant difference in mean Pregnancy Month\n",
        "\n",
        "Let us consider the significance Level = 5%\n",
        "\n",
        "The difference in the mean Pregnancy Month between Diabetic and Non-Diabetic Patients can be found out by calculating the p-value.\n",
        "\n",
        "### **P-value**\n",
        "\n",
        "In statistical hypothesis testing, the p-value or probability value is the probability of obtaining test results at least as extreme as the results actually observed during the test, assuming that the null hypothesis is correct. It is used to decide whether an alternative hypothesis can be accepted or not.\n",
        "\n",
        "So now say that we have put a significance (α)=0.05.\n",
        "This means that if we see a p-value of lesser than 0.05, we reject our Null and accept the Alternative to be true."
      ]
    },
    {
      "cell_type": "code",
      "metadata": {
        "colab": {
          "base_uri": "https://localhost:8080/"
        },
        "id": "4aoQgzvK62mp",
        "outputId": "6012159b-9509-4be0-dc86-56885b2ad2f9"
      },
      "source": [
        "import statsmodels.api as sm\n",
        "z,p_value = sm.stats.ztest(data_diabetic['Pregnancies'],data_non_diabetic['Pregnancies'])\n",
        "print(\"P-Value is ==> \",p_value)"
      ],
      "execution_count": 323,
      "outputs": [
        {
          "output_type": "stream",
          "text": [
            "P-Value is ==>  3.006743856829293e-10\n"
          ],
          "name": "stdout"
        }
      ]
    },
    {
      "cell_type": "markdown",
      "metadata": {
        "id": "L7FkMKSIQfKo"
      },
      "source": [
        "Our p-value is smaller than the 0.05 significance level, which means there is strong evidence against the null.\n",
        "\n",
        "Thus, we can reject the null!\n",
        "\n",
        "Based on our estimated difference in sample means, we support that there is a significant difference between the population mean Pregnancy month for diabetic and non diabetic patients.\n",
        "\n",
        "\n",
        "---\n",
        "\n"
      ]
    }
  ]
}